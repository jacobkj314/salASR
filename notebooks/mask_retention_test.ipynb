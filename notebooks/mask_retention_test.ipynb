{
 "cells": [
  {
   "cell_type": "code",
   "execution_count": 1,
   "id": "c6dc5e6d-fa4c-4cdd-be22-c0a06e824841",
   "metadata": {},
   "outputs": [
    {
     "name": "stderr",
     "output_type": "stream",
     "text": [
      "/home/dummy/Desktop/asr_project/salASR/salasr/lib/python3.10/site-packages/tqdm/auto.py:21: TqdmWarning: IProgress not found. Please update jupyter and ipywidgets. See https://ipywidgets.readthedocs.io/en/stable/user_install.html\n",
      "  from .autonotebook import tqdm as notebook_tqdm\n"
     ]
    }
   ],
   "source": [
    "import argparse\n",
    "import json\n",
    "from pathlib import Path\n",
    "import statistics\n",
    "\n",
    "from EvalWhisper import EvalWhisper\n",
    "\n"
   ]
  },
  {
   "cell_type": "code",
   "execution_count": 2,
   "id": "4bc586d4-9e40-4ddb-8612-3a5e74c9aa4b",
   "metadata": {},
   "outputs": [],
   "source": [
    "from datasets import load_dataset\n",
    "from tqdm import tqdm\n",
    "\n"
   ]
  },
  {
   "cell_type": "code",
   "execution_count": 21,
   "id": "cb9b1985-4405-49e0-b010-56586c2defcb",
   "metadata": {},
   "outputs": [],
   "source": [
    "def calculate_stats(scores_list):\n",
    "    return statistics.mean(scores_list), statistics.stdev(scores_list)\n",
    "\n",
    "def dump_output(scores_list, mean, standard_deviation, output_path):\n",
    "    output_dict = {}\n",
    "    output_dict[\"mean\"] = mean\n",
    "    output_dict[\"standard_deviation\"] = standard_deviation\n",
    "    output_dict[\"scores\"] = scores_list\n",
    "    with open(output_path, \"w\") as output_file:\n",
    "        json.dump(output_dict, output_file)\n",
    "\n",
    "def main(args):\n",
    "    # parse args\n",
    "    # args = parser.parse_args()\n",
    "    num_samples = 20\n",
    "    model_size = \"tiny\"\n",
    "    output_dir = Path(\"./\")\n",
    "    output_file = \"output_retain_top_0.8.txt\"\n",
    "    r_value = 0.8\n",
    "    mode_value = \"retain\"\n",
    "    what_to_mask = \"top\"\n",
    "    #load processor and model\n",
    "    print(f\"Loading model . . . \")\n",
    "    whisper_evaluator = EvalWhisper(f\"openai/whisper-{model_size}\")\n",
    "    print(f\"Loaded model\")\n",
    "    ds = load_dataset(\"librispeech_asr\", split=\"validation.clean\", streaming=True)\n",
    "    print(f\"Loaded data\")\n",
    "    scores_list = []\n",
    "    with open(output_dir / output_file, \"a\") as score_writer:\n",
    "        for sample in tqdm(ds.take(num_samples)):\n",
    "            score = whisper_evaluator.evaluate(sample, whisper_evaluator.top_r_features(sample, r=r_value, mode=mode_value, where=what_to_mask))\n",
    "            scores_list.append(score)\n",
    "            score_writer.write(str(score) + \"\\n\")\n",
    "    print(f\"scores_list:{scores_list}\")\n",
    "    output_path = output_dir / \"outputretain_top_0.8.json\"\n",
    "    mean, standard_deviation = calculate_stats(scores_list)\n",
    "    dump_output(scores_list, mean, standard_deviation, output_path)\n",
    "    \n",
    "\n",
    "\n"
   ]
  },
  {
   "cell_type": "code",
   "execution_count": 22,
   "id": "2752a08b-5faa-4c99-9310-f4ae9c94e7de",
   "metadata": {},
   "outputs": [
    {
     "name": "stdout",
     "output_type": "stream",
     "text": [
      "Loading model . . . \n",
      "Loaded model\n",
      "Loaded data\n"
     ]
    },
    {
     "name": "stderr",
     "output_type": "stream",
     "text": [
      "20it [01:41,  5.06s/it]"
     ]
    },
    {
     "name": "stdout",
     "output_type": "stream",
     "text": [
      "scores_list:[0.84375, 0.8235294222831726, 0.800000011920929, 0.5384615659713745, 1.0, 0.6818181872367859, 0.8095238208770752, 0.7857142686843872, 0.8181818127632141, 0.75, 0.7200000286102295, 0.8636363744735718, 0.800000011920929, 0.774193525314331, 0.7142857313156128, 0.8421052694320679, 0.7857142686843872, 0.6800000071525574, 0.8095238208770752, 0.6666666865348816]\n"
     ]
    },
    {
     "name": "stderr",
     "output_type": "stream",
     "text": [
      "\n"
     ]
    }
   ],
   "source": [
    "main({})"
   ]
  },
  {
   "cell_type": "code",
   "execution_count": null,
   "id": "f0028db6-9214-4f1e-a4cf-792ea3b6643e",
   "metadata": {},
   "outputs": [],
   "source": [
    "if __name__ == \"__main__\":\n",
    "    parser = argparse.ArgumentParser()\n",
    "    parser.add_argument(\"-n\", \"--num_samples\", type=int, default=10)\n",
    "    parser.add_argument(\"-m\", \"--model_size\", type=str, default=\"tiny\")\n",
    "    parser.add_argument(\"-o\", \"--output_dir\", type=str, default=\"./\")\n",
    "    parser.add_argument(\"-f\", \"--output_file\", type=str, default=\"output.txt\")\n",
    "    parser.add_argument(\"-r\", \"--r_value\", type=float, default=1.0)\n",
    "    parser.add_argument(\"--mode\", type=str, default=\"retain\")\n",
    "    parser.add_argument('--mode',\n",
    "                    default='retain',\n",
    "                    const='retain',\n",
    "                    nargs='?',\n",
    "                    choices=[\"retain\", \"remove\"],\n",
    "                    help='arg for retaining/removing top_r feats (default: %(default)s)')\n",
    "    parser.add_argument('--what',\n",
    "                    default='top',\n",
    "                    const='top',\n",
    "                    nargs='?',\n",
    "                    choices=[\"top\", \"bottom\", \"random\"],\n",
    "                    help='Specifies which part of the feature space the mask acts on to retin/remove the features (default: %(default)s)')\n",
    "\n",
    "    args = parser.parse_args()\n",
    "    main(args)"
   ]
  },
  {
   "cell_type": "code",
   "execution_count": null,
   "id": "2f141acc-8b9f-417a-97ef-92ec242e5093",
   "metadata": {},
   "outputs": [],
   "source": []
  },
  {
   "cell_type": "code",
   "execution_count": null,
   "id": "94b95016-2ba0-4f9d-8b29-66ac5aae6242",
   "metadata": {},
   "outputs": [],
   "source": []
  }
 ],
 "metadata": {
  "kernelspec": {
   "display_name": "Python 3 (ipykernel)",
   "language": "python",
   "name": "python3"
  },
  "language_info": {
   "codemirror_mode": {
    "name": "ipython",
    "version": 3
   },
   "file_extension": ".py",
   "mimetype": "text/x-python",
   "name": "python",
   "nbconvert_exporter": "python",
   "pygments_lexer": "ipython3",
   "version": "3.10.12"
  }
 },
 "nbformat": 4,
 "nbformat_minor": 5
}
