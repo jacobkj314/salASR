{
 "cells": [
  {
   "cell_type": "code",
   "execution_count": 8,
   "id": "13682b22-dfd8-4ddd-a3e9-3032a3749444",
   "metadata": {},
   "outputs": [],
   "source": [
    "from transformers import WhisperProcessor, WhisperForConditionalGeneration\n",
    "from datasets import load_dataset\n",
    "\n"
   ]
  },
  {
   "cell_type": "code",
   "execution_count": 9,
   "id": "642d6214-127a-4a68-b46a-8a8870e3047c",
   "metadata": {},
   "outputs": [],
   "source": [
    "# load model and processor\n",
    "processor = WhisperProcessor.from_pretrained(\"openai/whisper-large\")\n",
    "model = WhisperForConditionalGeneration.from_pretrained(\"openai/whisper-base\")\n",
    "model.config.forced_decoder_ids = None\n"
   ]
  },
  {
   "cell_type": "code",
   "execution_count": 10,
   "id": "8f8007c2-2428-4800-ae40-c14cb63005b1",
   "metadata": {},
   "outputs": [],
   "source": [
    "\n",
    "# load dummy dataset and read audio files\n",
    "ds = load_dataset(\"hf-internal-testing/librispeech_asr_dummy\", \"clean\", split=\"validation\")\n",
    "sample = ds[0][\"audio\"]\n"
   ]
  },
  {
   "cell_type": "code",
   "execution_count": 11,
   "id": "6e8ebdfa-bbb8-499b-82d5-0c779bfc491a",
   "metadata": {},
   "outputs": [
    {
     "data": {
      "text/plain": [
       "{'path': '/uufs/chpc.utah.edu/common/home/u0403624/.cache/huggingface/datasets/downloads/extracted/6aac0b5342f8e48f8460fe4c80913be2402d339b607f9cd68433aff227620ac7/dev_clean/1272/128104/1272-128104-0000.flac',\n",
       " 'array': array([0.00238037, 0.0020752 , 0.00198364, ..., 0.00042725, 0.00057983,\n",
       "        0.0010376 ]),\n",
       " 'sampling_rate': 16000}"
      ]
     },
     "execution_count": 11,
     "metadata": {},
     "output_type": "execute_result"
    }
   ],
   "source": [
    "sample"
   ]
  },
  {
   "cell_type": "code",
   "execution_count": 13,
   "id": "5b677112-774b-4799-b5cb-cc06bf706a96",
   "metadata": {},
   "outputs": [
    {
     "name": "stdout",
     "output_type": "stream",
     "text": [
      "time:11.050579309463501\n",
      "sample:{'path': '/uufs/chpc.utah.edu/common/home/u0403624/.cache/huggingface/datasets/downloads/extracted/6aac0b5342f8e48f8460fe4c80913be2402d339b607f9cd68433aff227620ac7/dev_clean/1272/128104/1272-128104-0000.flac', 'array': array([0.00238037, 0.0020752 , 0.00198364, ..., 0.00042725, 0.00057983,\n",
      "       0.0010376 ]), 'sampling_rate': 16000}\n",
      "transcription:[' Mr. Quilter is the apostle of the middle classes, and we are glad to welcome his gospel.']\n"
     ]
    }
   ],
   "source": [
    "from time import time\n",
    "\n",
    "start = time()\n",
    "input_features = processor(sample[\"array\"], sampling_rate=sample[\"sampling_rate\"], return_tensors=\"pt\").input_features \n",
    "\n",
    "# generate token ids\n",
    "predicted_ids = model.generate(input_features)\n",
    "# decode token ids to text\n",
    "transcription = processor.batch_decode(predicted_ids, skip_special_tokens=False)\n",
    "\n",
    "transcription = processor.batch_decode(predicted_ids, skip_special_tokens=True)\n",
    "print(f\"time:{time() - start}\")\n",
    "print(f\"sample:{sample}\")\n",
    "print(f\"transcription:{transcription}\")"
   ]
  },
  {
   "cell_type": "code",
   "execution_count": null,
   "id": "adfb40a5",
   "metadata": {},
   "outputs": [
    {
     "name": "stdout",
     "output_type": "stream",
     "text": [
      "Requirement already satisfied: transformers in /scratch/general/vast/u0403624/envs/salASR/lib/python3.8/site-packages (4.34.1)\n",
      "Requirement already satisfied: datasets in /scratch/general/vast/u0403624/envs/salASR/lib/python3.8/site-packages (2.14.5)\n",
      "Requirement already satisfied: filelock in /scratch/general/vast/u0403624/envs/salASR/lib/python3.8/site-packages (from transformers) (3.12.4)\n",
      "Requirement already satisfied: huggingface-hub<1.0,>=0.16.4 in /scratch/general/vast/u0403624/envs/salASR/lib/python3.8/site-packages (from transformers) (0.17.3)\n",
      "Requirement already satisfied: numpy>=1.17 in /scratch/general/vast/u0403624/envs/salASR/lib/python3.8/site-packages (from transformers) (1.24.4)\n",
      "Requirement already satisfied: packaging>=20.0 in /scratch/general/vast/u0403624/envs/salASR/lib/python3.8/site-packages (from transformers) (23.2)\n",
      "Requirement already satisfied: pyyaml>=5.1 in /scratch/general/vast/u0403624/envs/salASR/lib/python3.8/site-packages (from transformers) (6.0.1)\n",
      "Requirement already satisfied: regex!=2019.12.17 in /scratch/general/vast/u0403624/envs/salASR/lib/python3.8/site-packages (from transformers) (2023.10.3)\n",
      "Requirement already satisfied: requests in /scratch/general/vast/u0403624/envs/salASR/lib/python3.8/site-packages (from transformers) (2.31.0)\n",
      "Requirement already satisfied: tokenizers<0.15,>=0.14 in /scratch/general/vast/u0403624/envs/salASR/lib/python3.8/site-packages (from transformers) (0.14.1)\n",
      "Requirement already satisfied: safetensors>=0.3.1 in /scratch/general/vast/u0403624/envs/salASR/lib/python3.8/site-packages (from transformers) (0.4.0)\n",
      "Requirement already satisfied: tqdm>=4.27 in /scratch/general/vast/u0403624/envs/salASR/lib/python3.8/site-packages (from transformers) (4.66.1)\n",
      "Requirement already satisfied: pyarrow>=8.0.0 in /scratch/general/vast/u0403624/envs/salASR/lib/python3.8/site-packages (from datasets) (13.0.0)\n",
      "Requirement already satisfied: dill<0.3.8,>=0.3.0 in /scratch/general/vast/u0403624/envs/salASR/lib/python3.8/site-packages (from datasets) (0.3.7)\n",
      "Requirement already satisfied: pandas in /scratch/general/vast/u0403624/envs/salASR/lib/python3.8/site-packages (from datasets) (2.0.3)\n",
      "Requirement already satisfied: xxhash in /scratch/general/vast/u0403624/envs/salASR/lib/python3.8/site-packages (from datasets) (3.4.1)\n",
      "Requirement already satisfied: multiprocess in /scratch/general/vast/u0403624/envs/salASR/lib/python3.8/site-packages (from datasets) (0.70.15)\n",
      "Requirement already satisfied: fsspec<2023.9.0,>=2023.1.0 in /scratch/general/vast/u0403624/envs/salASR/lib/python3.8/site-packages (from fsspec[http]<2023.9.0,>=2023.1.0->datasets) (2023.6.0)\n",
      "Requirement already satisfied: aiohttp in /scratch/general/vast/u0403624/envs/salASR/lib/python3.8/site-packages (from datasets) (3.8.6)\n",
      "Requirement already satisfied: attrs>=17.3.0 in /scratch/general/vast/u0403624/envs/salASR/lib/python3.8/site-packages (from aiohttp->datasets) (23.1.0)\n",
      "Requirement already satisfied: charset-normalizer<4.0,>=2.0 in /scratch/general/vast/u0403624/envs/salASR/lib/python3.8/site-packages (from aiohttp->datasets) (3.3.0)\n",
      "Requirement already satisfied: multidict<7.0,>=4.5 in /scratch/general/vast/u0403624/envs/salASR/lib/python3.8/site-packages (from aiohttp->datasets) (6.0.4)\n",
      "Requirement already satisfied: async-timeout<5.0,>=4.0.0a3 in /scratch/general/vast/u0403624/envs/salASR/lib/python3.8/site-packages (from aiohttp->datasets) (4.0.3)\n",
      "Requirement already satisfied: yarl<2.0,>=1.0 in /scratch/general/vast/u0403624/envs/salASR/lib/python3.8/site-packages (from aiohttp->datasets) (1.9.2)\n",
      "Requirement already satisfied: frozenlist>=1.1.1 in /scratch/general/vast/u0403624/envs/salASR/lib/python3.8/site-packages (from aiohttp->datasets) (1.4.0)\n",
      "Requirement already satisfied: aiosignal>=1.1.2 in /scratch/general/vast/u0403624/envs/salASR/lib/python3.8/site-packages (from aiohttp->datasets) (1.3.1)\n",
      "Requirement already satisfied: typing-extensions>=3.7.4.3 in /scratch/general/vast/u0403624/envs/salASR/lib/python3.8/site-packages (from huggingface-hub<1.0,>=0.16.4->transformers) (4.8.0)\n",
      "Requirement already satisfied: idna<4,>=2.5 in /scratch/general/vast/u0403624/envs/salASR/lib/python3.8/site-packages (from requests->transformers) (3.4)\n",
      "Requirement already satisfied: urllib3<3,>=1.21.1 in /scratch/general/vast/u0403624/envs/salASR/lib/python3.8/site-packages (from requests->transformers) (2.0.7)\n",
      "Requirement already satisfied: certifi>=2017.4.17 in /scratch/general/vast/u0403624/envs/salASR/lib/python3.8/site-packages (from requests->transformers) (2023.7.22)\n",
      "Requirement already satisfied: python-dateutil>=2.8.2 in /scratch/general/vast/u0403624/envs/salASR/lib/python3.8/site-packages (from pandas->datasets) (2.8.2)\n",
      "Requirement already satisfied: pytz>=2020.1 in /scratch/general/vast/u0403624/envs/salASR/lib/python3.8/site-packages (from pandas->datasets) (2023.3.post1)\n",
      "Requirement already satisfied: tzdata>=2022.1 in /scratch/general/vast/u0403624/envs/salASR/lib/python3.8/site-packages (from pandas->datasets) (2023.3)\n",
      "Requirement already satisfied: six>=1.5 in /scratch/general/vast/u0403624/envs/salASR/lib/python3.8/site-packages (from python-dateutil>=2.8.2->pandas->datasets) (1.16.0)\n"
     ]
    }
   ],
   "source": [
    "! python -m pip install transformers datasets"
   ]
  },
  {
   "cell_type": "code",
   "execution_count": null,
   "id": "ff7339a4-2ed1-4cd9-a36e-8f99c48350fa",
   "metadata": {},
   "outputs": [
    {
     "name": "stdout",
     "output_type": "stream",
     "text": [
      "Requirement already satisfied: soundfile in /scratch/general/vast/u0403624/envs/salASR/lib/python3.8/site-packages (0.12.1)\n",
      "Requirement already satisfied: librosa in /scratch/general/vast/u0403624/envs/salASR/lib/python3.8/site-packages (0.10.1)\n",
      "Requirement already satisfied: torch in /scratch/general/vast/u0403624/envs/salASR/lib/python3.8/site-packages (2.1.0)\n",
      "Requirement already satisfied: torchaudio in /scratch/general/vast/u0403624/envs/salASR/lib/python3.8/site-packages (2.1.0)\n",
      "Requirement already satisfied: cffi>=1.0 in /scratch/general/vast/u0403624/envs/salASR/lib/python3.8/site-packages (from soundfile) (1.16.0)\n",
      "Requirement already satisfied: audioread>=2.1.9 in /scratch/general/vast/u0403624/envs/salASR/lib/python3.8/site-packages (from librosa) (3.0.1)\n",
      "Requirement already satisfied: numpy!=1.22.0,!=1.22.1,!=1.22.2,>=1.20.3 in /scratch/general/vast/u0403624/envs/salASR/lib/python3.8/site-packages (from librosa) (1.24.4)\n",
      "Requirement already satisfied: scipy>=1.2.0 in /scratch/general/vast/u0403624/envs/salASR/lib/python3.8/site-packages (from librosa) (1.10.1)\n",
      "Requirement already satisfied: scikit-learn>=0.20.0 in /scratch/general/vast/u0403624/envs/salASR/lib/python3.8/site-packages (from librosa) (1.3.1)\n",
      "Requirement already satisfied: joblib>=0.14 in /scratch/general/vast/u0403624/envs/salASR/lib/python3.8/site-packages (from librosa) (1.3.2)\n",
      "Requirement already satisfied: decorator>=4.3.0 in /scratch/general/vast/u0403624/envs/salASR/lib/python3.8/site-packages (from librosa) (5.1.1)\n",
      "Requirement already satisfied: numba>=0.51.0 in /scratch/general/vast/u0403624/envs/salASR/lib/python3.8/site-packages (from librosa) (0.58.1)\n",
      "Requirement already satisfied: pooch>=1.0 in /scratch/general/vast/u0403624/envs/salASR/lib/python3.8/site-packages (from librosa) (1.7.0)\n",
      "Requirement already satisfied: soxr>=0.3.2 in /scratch/general/vast/u0403624/envs/salASR/lib/python3.8/site-packages (from librosa) (0.3.7)\n",
      "Requirement already satisfied: typing-extensions>=4.1.1 in /scratch/general/vast/u0403624/envs/salASR/lib/python3.8/site-packages (from librosa) (4.8.0)\n",
      "Requirement already satisfied: lazy-loader>=0.1 in /scratch/general/vast/u0403624/envs/salASR/lib/python3.8/site-packages (from librosa) (0.3)\n",
      "Requirement already satisfied: msgpack>=1.0 in /scratch/general/vast/u0403624/envs/salASR/lib/python3.8/site-packages (from librosa) (1.0.7)\n",
      "Requirement already satisfied: filelock in /scratch/general/vast/u0403624/envs/salASR/lib/python3.8/site-packages (from torch) (3.12.4)\n",
      "Requirement already satisfied: sympy in /scratch/general/vast/u0403624/envs/salASR/lib/python3.8/site-packages (from torch) (1.12)\n",
      "Requirement already satisfied: networkx in /scratch/general/vast/u0403624/envs/salASR/lib/python3.8/site-packages (from torch) (3.1)\n",
      "Requirement already satisfied: jinja2 in /scratch/general/vast/u0403624/envs/salASR/lib/python3.8/site-packages (from torch) (3.1.2)\n",
      "Requirement already satisfied: fsspec in /scratch/general/vast/u0403624/envs/salASR/lib/python3.8/site-packages (from torch) (2023.6.0)\n",
      "Requirement already satisfied: nvidia-cuda-nvrtc-cu12==12.1.105 in /scratch/general/vast/u0403624/envs/salASR/lib/python3.8/site-packages (from torch) (12.1.105)\n",
      "Requirement already satisfied: nvidia-cuda-runtime-cu12==12.1.105 in /scratch/general/vast/u0403624/envs/salASR/lib/python3.8/site-packages (from torch) (12.1.105)\n",
      "Requirement already satisfied: nvidia-cuda-cupti-cu12==12.1.105 in /scratch/general/vast/u0403624/envs/salASR/lib/python3.8/site-packages (from torch) (12.1.105)\n",
      "Requirement already satisfied: nvidia-cudnn-cu12==8.9.2.26 in /scratch/general/vast/u0403624/envs/salASR/lib/python3.8/site-packages (from torch) (8.9.2.26)\n",
      "Requirement already satisfied: nvidia-cublas-cu12==12.1.3.1 in /scratch/general/vast/u0403624/envs/salASR/lib/python3.8/site-packages (from torch) (12.1.3.1)\n",
      "Requirement already satisfied: nvidia-cufft-cu12==11.0.2.54 in /scratch/general/vast/u0403624/envs/salASR/lib/python3.8/site-packages (from torch) (11.0.2.54)\n",
      "Requirement already satisfied: nvidia-curand-cu12==10.3.2.106 in /scratch/general/vast/u0403624/envs/salASR/lib/python3.8/site-packages (from torch) (10.3.2.106)\n",
      "Requirement already satisfied: nvidia-cusolver-cu12==11.4.5.107 in /scratch/general/vast/u0403624/envs/salASR/lib/python3.8/site-packages (from torch) (11.4.5.107)\n",
      "Requirement already satisfied: nvidia-cusparse-cu12==12.1.0.106 in /scratch/general/vast/u0403624/envs/salASR/lib/python3.8/site-packages (from torch) (12.1.0.106)\n",
      "Requirement already satisfied: nvidia-nccl-cu12==2.18.1 in /scratch/general/vast/u0403624/envs/salASR/lib/python3.8/site-packages (from torch) (2.18.1)\n",
      "Requirement already satisfied: nvidia-nvtx-cu12==12.1.105 in /scratch/general/vast/u0403624/envs/salASR/lib/python3.8/site-packages (from torch) (12.1.105)\n",
      "Requirement already satisfied: triton==2.1.0 in /scratch/general/vast/u0403624/envs/salASR/lib/python3.8/site-packages (from torch) (2.1.0)\n",
      "Requirement already satisfied: nvidia-nvjitlink-cu12 in /scratch/general/vast/u0403624/envs/salASR/lib/python3.8/site-packages (from nvidia-cusolver-cu12==11.4.5.107->torch) (12.3.52)\n",
      "Requirement already satisfied: pycparser in /scratch/general/vast/u0403624/envs/salASR/lib/python3.8/site-packages (from cffi>=1.0->soundfile) (2.21)\n",
      "Requirement already satisfied: llvmlite<0.42,>=0.41.0dev0 in /scratch/general/vast/u0403624/envs/salASR/lib/python3.8/site-packages (from numba>=0.51.0->librosa) (0.41.1)\n",
      "Requirement already satisfied: importlib-metadata in /scratch/general/vast/u0403624/envs/salASR/lib/python3.8/site-packages (from numba>=0.51.0->librosa) (6.8.0)\n",
      "Requirement already satisfied: platformdirs>=2.5.0 in /scratch/general/vast/u0403624/envs/salASR/lib/python3.8/site-packages (from pooch>=1.0->librosa) (3.11.0)\n",
      "Requirement already satisfied: packaging>=20.0 in /scratch/general/vast/u0403624/envs/salASR/lib/python3.8/site-packages (from pooch>=1.0->librosa) (23.2)\n",
      "Requirement already satisfied: requests>=2.19.0 in /scratch/general/vast/u0403624/envs/salASR/lib/python3.8/site-packages (from pooch>=1.0->librosa) (2.31.0)\n",
      "Requirement already satisfied: threadpoolctl>=2.0.0 in /scratch/general/vast/u0403624/envs/salASR/lib/python3.8/site-packages (from scikit-learn>=0.20.0->librosa) (3.2.0)\n",
      "Requirement already satisfied: MarkupSafe>=2.0 in /scratch/general/vast/u0403624/envs/salASR/lib/python3.8/site-packages (from jinja2->torch) (2.1.3)\n",
      "Requirement already satisfied: mpmath>=0.19 in /scratch/general/vast/u0403624/envs/salASR/lib/python3.8/site-packages (from sympy->torch) (1.3.0)\n",
      "Requirement already satisfied: charset-normalizer<4,>=2 in /scratch/general/vast/u0403624/envs/salASR/lib/python3.8/site-packages (from requests>=2.19.0->pooch>=1.0->librosa) (3.3.0)\n",
      "Requirement already satisfied: idna<4,>=2.5 in /scratch/general/vast/u0403624/envs/salASR/lib/python3.8/site-packages (from requests>=2.19.0->pooch>=1.0->librosa) (3.4)\n",
      "Requirement already satisfied: urllib3<3,>=1.21.1 in /scratch/general/vast/u0403624/envs/salASR/lib/python3.8/site-packages (from requests>=2.19.0->pooch>=1.0->librosa) (2.0.7)\n",
      "Requirement already satisfied: certifi>=2017.4.17 in /scratch/general/vast/u0403624/envs/salASR/lib/python3.8/site-packages (from requests>=2.19.0->pooch>=1.0->librosa) (2023.7.22)\n",
      "Requirement already satisfied: zipp>=0.5 in /scratch/general/vast/u0403624/envs/salASR/lib/python3.8/site-packages (from importlib-metadata->numba>=0.51.0->librosa) (3.17.0)\n"
     ]
    }
   ],
   "source": [
    "! python -m pip install soundfile librosa torch torchaudio #jupyterlab "
   ]
  },
  {
   "cell_type": "code",
   "execution_count": null,
   "id": "89d57600-e1a3-41d1-beb3-5bf8a89bff12",
   "metadata": {},
   "outputs": [],
   "source": []
  }
 ],
 "metadata": {
  "kernelspec": {
   "display_name": "Python 3 (ipykernel)",
   "language": "python",
   "name": "python3"
  },
  "language_info": {
   "codemirror_mode": {
    "name": "ipython",
    "version": 3
   },
   "file_extension": ".py",
   "mimetype": "text/x-python",
   "name": "python",
   "nbconvert_exporter": "python",
   "pygments_lexer": "ipython3",
   "version": "3.8.18"
  }
 },
 "nbformat": 4,
 "nbformat_minor": 5
}
