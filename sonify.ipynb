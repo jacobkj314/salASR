{
 "cells": [
  {
   "cell_type": "code",
   "execution_count": 18,
   "metadata": {},
   "outputs": [],
   "source": [
    "from EvalWhisper import *\n",
    "import soundfile as sf"
   ]
  },
  {
   "cell_type": "code",
   "execution_count": 19,
   "metadata": {},
   "outputs": [],
   "source": [
    "import argparse\n",
    "import json\n",
    "import pathlib\n",
    "from pathlib import Path\n",
    "import statistics\n",
    "\n",
    "from EvalWhisper import EvalWhisper\n",
    "\n",
    "from datasets import load_dataset\n",
    "from tqdm import tqdm"
   ]
  },
  {
   "cell_type": "code",
   "execution_count": 20,
   "metadata": {},
   "outputs": [
    {
     "name": "stdout",
     "output_type": "stream",
     "text": [
      "Loading model . . . (openai/whisper-large)\n"
     ]
    },
    {
     "name": "stderr",
     "output_type": "stream",
     "text": [
      "Special tokens have been added in the vocabulary, make sure the associated word embeddings are fine-tuned or trained.\n"
     ]
    },
    {
     "name": "stdout",
     "output_type": "stream",
     "text": [
      "Loaded model\n"
     ]
    }
   ],
   "source": [
    "model_size = \"large\"\n",
    "model_checkpoint = f\"openai/whisper-{model_size}\"\n",
    "processor_checkpoint = [f\"openai/whisper-{model_size}\"]\n",
    "#load processor and model\n",
    "print(f\"Loading model . . . ({model_checkpoint})\")\n",
    "whisper_evaluator = EvalWhisper(model_checkpoint, *processor_checkpoint)\n",
    "print(f\"Loaded model\")\n"
   ]
  },
  {
   "cell_type": "code",
   "execution_count": 21,
   "metadata": {},
   "outputs": [
    {
     "name": "stdout",
     "output_type": "stream",
     "text": [
      "Loaded data\n"
     ]
    }
   ],
   "source": [
    "ds = load_dataset(\"librispeech_asr\", split=\"validation.clean\", streaming=True)\n",
    "print(f\"Loaded data\")"
   ]
  },
  {
   "cell_type": "code",
   "execution_count": 22,
   "metadata": {},
   "outputs": [
    {
     "data": {
      "text/plain": [
       "{'file': '2277-149896-0000.flac',\n",
       " 'audio': {'path': '2277-149896-0000.flac',\n",
       "  'array': array([ 0.00186157,  0.0005188 ,  0.00024414, ..., -0.00097656,\n",
       "         -0.00109863, -0.00146484]),\n",
       "  'sampling_rate': 16000},\n",
       " 'text': \"HE WAS IN A FEVERED STATE OF MIND OWING TO THE BLIGHT HIS WIFE'S ACTION THREATENED TO CAST UPON HIS ENTIRE FUTURE\",\n",
       " 'speaker_id': 2277,\n",
       " 'chapter_id': 149896,\n",
       " 'id': '2277-149896-0000'}"
      ]
     },
     "execution_count": 22,
     "metadata": {},
     "output_type": "execute_result"
    }
   ],
   "source": [
    "list(ds.take(1))[0]"
   ]
  },
  {
   "cell_type": "code",
   "execution_count": 6,
   "metadata": {},
   "outputs": [],
   "source": [
    "! "
   ]
  },
  {
   "cell_type": "code",
   "execution_count": 15,
   "metadata": {},
   "outputs": [],
   "source": [
    "def get_audio(output_path, whisper_evaluator, inputs, mask_ratios, mode_value, what_to_mask_list, sampling_rate):\n",
    "    output_audio_list = []\n",
    "    \n",
    "    \n",
    "    for idx, input in tqdm(enumerate(inputs)):\n",
    "        masked_spectrograms = []\n",
    "        original_spectrogram = whisper_evaluator.get_spectrogram(input)\n",
    "        # print(f\"os:{original_spectrogram.shape}\")\n",
    "        sf.write(f\"{output_path}/{idx}_original_all.wav\", input[\"audio\"][\"array\"], sampling_rate) #whisper_evaluator.top_r_features(input, r=1.0, mode=\"retain\", where=\"top\").detach().numpy()\n",
    "        sf.write(f\"{output_path}/{idx}_{1.0}_all.wav\", whisper_evaluator.sonify(original_spectrogram), sampling_rate) #whisper_evaluator.top_r_features(input, r=1.0, mode=\"retain\", where=\"top\").detach().numpy()\n",
    "        with open(f\"{output_path}/{idx}_original_transcription.txt\", \"w\") as op_file:\n",
    "            op_file.write(input[\"text\"] + \"\\n\")\n",
    "        break\n",
    "        for mask_ratio in tqdm(mask_ratios):\n",
    "            mask_list = []\n",
    "            for mask in what_to_mask_list:\n",
    "                masked_spectrogram = whisper_evaluator.top_r_features(input, r=mask_ratio, mode=mode_value, where=mask)\n",
    "                masked_audio = whisper_evaluator.sonify(masked_spectrogram.detach().numpy())\n",
    "                mask_list.append(masked_audio)\n",
    "                sf.write(f\"{output_path}/{idx}_{mask_ratio}_{mask}.wav\", masked_audio, sampling_rate)\n",
    "            masked_spectrograms.append(mask_list)\n",
    "\n",
    "    "
   ]
  },
  {
   "cell_type": "code",
   "execution_count": 17,
   "metadata": {},
   "outputs": [
    {
     "name": "stderr",
     "output_type": "stream",
     "text": [
      "0it [00:28, ?it/s]\n"
     ]
    },
    {
     "ename": "KeyboardInterrupt",
     "evalue": "",
     "output_type": "error",
     "traceback": [
      "\u001b[0;31m---------------------------------------------------------------------------\u001b[0m",
      "\u001b[0;31mKeyboardInterrupt\u001b[0m                         Traceback (most recent call last)",
      "\u001b[1;32m/Users/leakycauldron/Desktop/salASR/sonify.ipynb Cell 8\u001b[0m line \u001b[0;36m9\n\u001b[1;32m      <a href='vscode-notebook-cell:/Users/leakycauldron/Desktop/salASR/sonify.ipynb#W5sZmlsZQ%3D%3D?line=6'>7</a>\u001b[0m skip_to_index \u001b[39m=\u001b[39m \u001b[39m510\u001b[39m\n\u001b[1;32m      <a href='vscode-notebook-cell:/Users/leakycauldron/Desktop/salASR/sonify.ipynb#W5sZmlsZQ%3D%3D?line=7'>8</a>\u001b[0m inputs \u001b[39m=\u001b[39m []\n\u001b[0;32m----> <a href='vscode-notebook-cell:/Users/leakycauldron/Desktop/salASR/sonify.ipynb#W5sZmlsZQ%3D%3D?line=8'>9</a>\u001b[0m \u001b[39mfor\u001b[39;00m sample \u001b[39min\u001b[39;00m tqdm(ds\u001b[39m.\u001b[39mskip(skip_to_index)\u001b[39m.\u001b[39mtake(num_samples)):\n\u001b[1;32m     <a href='vscode-notebook-cell:/Users/leakycauldron/Desktop/salASR/sonify.ipynb#W5sZmlsZQ%3D%3D?line=9'>10</a>\u001b[0m     inputs\u001b[39m.\u001b[39mappend(sample)\n\u001b[1;32m     <a href='vscode-notebook-cell:/Users/leakycauldron/Desktop/salASR/sonify.ipynb#W5sZmlsZQ%3D%3D?line=10'>11</a>\u001b[0m get_audio(whisper_evaluator, inputs, mask_ratios, mode_value, what_to_mask_list)\n",
      "File \u001b[0;32m~/miniconda3/envs/whisper/lib/python3.10/site-packages/tqdm/std.py:1182\u001b[0m, in \u001b[0;36mtqdm.__iter__\u001b[0;34m(self)\u001b[0m\n\u001b[1;32m   1179\u001b[0m time \u001b[39m=\u001b[39m \u001b[39mself\u001b[39m\u001b[39m.\u001b[39m_time\n\u001b[1;32m   1181\u001b[0m \u001b[39mtry\u001b[39;00m:\n\u001b[0;32m-> 1182\u001b[0m     \u001b[39mfor\u001b[39;00m obj \u001b[39min\u001b[39;00m iterable:\n\u001b[1;32m   1183\u001b[0m         \u001b[39myield\u001b[39;00m obj\n\u001b[1;32m   1184\u001b[0m         \u001b[39m# Update and possibly print the progressbar.\u001b[39;00m\n\u001b[1;32m   1185\u001b[0m         \u001b[39m# Note: does not call self.update(1) for speed optimisation.\u001b[39;00m\n",
      "File \u001b[0;32m~/miniconda3/envs/whisper/lib/python3.10/site-packages/datasets/iterable_dataset.py:1379\u001b[0m, in \u001b[0;36mIterableDataset.__iter__\u001b[0;34m(self)\u001b[0m\n\u001b[1;32m   1376\u001b[0m         \u001b[39myield\u001b[39;00m formatter\u001b[39m.\u001b[39mformat_row(pa_table)\n\u001b[1;32m   1377\u001b[0m     \u001b[39mreturn\u001b[39;00m\n\u001b[0;32m-> 1379\u001b[0m \u001b[39mfor\u001b[39;00m key, example \u001b[39min\u001b[39;00m ex_iterable:\n\u001b[1;32m   1380\u001b[0m     \u001b[39mif\u001b[39;00m \u001b[39mself\u001b[39m\u001b[39m.\u001b[39mfeatures:\n\u001b[1;32m   1381\u001b[0m         \u001b[39m# `IterableDataset` automatically fills missing columns with None.\u001b[39;00m\n\u001b[1;32m   1382\u001b[0m         \u001b[39m# This is done with `_apply_feature_types_on_example`.\u001b[39;00m\n\u001b[1;32m   1383\u001b[0m         example \u001b[39m=\u001b[39m _apply_feature_types_on_example(\n\u001b[1;32m   1384\u001b[0m             example, \u001b[39mself\u001b[39m\u001b[39m.\u001b[39mfeatures, token_per_repo_id\u001b[39m=\u001b[39m\u001b[39mself\u001b[39m\u001b[39m.\u001b[39m_token_per_repo_id\n\u001b[1;32m   1385\u001b[0m         )\n",
      "File \u001b[0;32m~/miniconda3/envs/whisper/lib/python3.10/site-packages/datasets/iterable_dataset.py:1039\u001b[0m, in \u001b[0;36mTakeExamplesIterable.__iter__\u001b[0;34m(self)\u001b[0m\n\u001b[1;32m   1038\u001b[0m \u001b[39mdef\u001b[39;00m \u001b[39m__iter__\u001b[39m(\u001b[39mself\u001b[39m):\n\u001b[0;32m-> 1039\u001b[0m     \u001b[39myield from\u001b[39;00m islice(\u001b[39mself\u001b[39m\u001b[39m.\u001b[39mex_iterable, \u001b[39mself\u001b[39m\u001b[39m.\u001b[39mn)\n",
      "File \u001b[0;32m~/miniconda3/envs/whisper/lib/python3.10/site-packages/datasets/iterable_dataset.py:1020\u001b[0m, in \u001b[0;36mSkipExamplesIterable.__iter__\u001b[0;34m(self)\u001b[0m\n\u001b[1;32m   1019\u001b[0m \u001b[39mdef\u001b[39;00m \u001b[39m__iter__\u001b[39m(\u001b[39mself\u001b[39m):\n\u001b[0;32m-> 1020\u001b[0m     \u001b[39myield from\u001b[39;00m islice(\u001b[39mself\u001b[39m\u001b[39m.\u001b[39mex_iterable, \u001b[39mself\u001b[39m\u001b[39m.\u001b[39mn, \u001b[39mNone\u001b[39;00m)\n",
      "File \u001b[0;32m~/miniconda3/envs/whisper/lib/python3.10/site-packages/datasets/iterable_dataset.py:233\u001b[0m, in \u001b[0;36mExamplesIterable.__iter__\u001b[0;34m(self)\u001b[0m\n\u001b[1;32m    232\u001b[0m \u001b[39mdef\u001b[39;00m \u001b[39m__iter__\u001b[39m(\u001b[39mself\u001b[39m):\n\u001b[0;32m--> 233\u001b[0m     \u001b[39myield from\u001b[39;00m \u001b[39mself\u001b[39m\u001b[39m.\u001b[39mgenerate_examples_fn(\u001b[39m*\u001b[39m\u001b[39m*\u001b[39m\u001b[39mself\u001b[39m\u001b[39m.\u001b[39mkwargs)\n",
      "File \u001b[0;32m~/.cache/huggingface/modules/datasets_modules/datasets/librispeech_asr/cff5df6e7955c80a67f80e27e7e655de71c689e2d2364bece785b972acb37fe7/librispeech_asr.py:251\u001b[0m, in \u001b[0;36mLibrispeechASR._generate_examples\u001b[0;34m(self, files, local_extracted_archive)\u001b[0m\n\u001b[1;32m    249\u001b[0m \u001b[39mif\u001b[39;00m path\u001b[39m.\u001b[39mendswith(\u001b[39m\"\u001b[39m\u001b[39m.flac\u001b[39m\u001b[39m\"\u001b[39m):\n\u001b[1;32m    250\u001b[0m     id_ \u001b[39m=\u001b[39m path\u001b[39m.\u001b[39msplit(\u001b[39m\"\u001b[39m\u001b[39m/\u001b[39m\u001b[39m\"\u001b[39m)[\u001b[39m-\u001b[39m\u001b[39m1\u001b[39m][: \u001b[39m-\u001b[39m\u001b[39mlen\u001b[39m(\u001b[39m\"\u001b[39m\u001b[39m.flac\u001b[39m\u001b[39m\"\u001b[39m)]\n\u001b[0;32m--> 251\u001b[0m     audio_data[id_] \u001b[39m=\u001b[39m f\u001b[39m.\u001b[39;49mread()\n\u001b[1;32m    252\u001b[0m \u001b[39melif\u001b[39;00m path\u001b[39m.\u001b[39mendswith(\u001b[39m\"\u001b[39m\u001b[39m.trans.txt\u001b[39m\u001b[39m\"\u001b[39m):\n\u001b[1;32m    253\u001b[0m     \u001b[39mfor\u001b[39;00m line \u001b[39min\u001b[39;00m f:\n",
      "File \u001b[0;32m~/miniconda3/envs/whisper/lib/python3.10/tarfile.py:689\u001b[0m, in \u001b[0;36m_FileInFile.read\u001b[0;34m(self, size)\u001b[0m\n\u001b[1;32m    687\u001b[0m \u001b[39mif\u001b[39;00m data:\n\u001b[1;32m    688\u001b[0m     \u001b[39mself\u001b[39m\u001b[39m.\u001b[39mfileobj\u001b[39m.\u001b[39mseek(offset \u001b[39m+\u001b[39m (\u001b[39mself\u001b[39m\u001b[39m.\u001b[39mposition \u001b[39m-\u001b[39m start))\n\u001b[0;32m--> 689\u001b[0m     b \u001b[39m=\u001b[39m \u001b[39mself\u001b[39;49m\u001b[39m.\u001b[39;49mfileobj\u001b[39m.\u001b[39;49mread(length)\n\u001b[1;32m    690\u001b[0m     \u001b[39mif\u001b[39;00m \u001b[39mlen\u001b[39m(b) \u001b[39m!=\u001b[39m length:\n\u001b[1;32m    691\u001b[0m         \u001b[39mraise\u001b[39;00m ReadError(\u001b[39m\"\u001b[39m\u001b[39munexpected end of data\u001b[39m\u001b[39m\"\u001b[39m)\n",
      "File \u001b[0;32m~/miniconda3/envs/whisper/lib/python3.10/tarfile.py:526\u001b[0m, in \u001b[0;36m_Stream.read\u001b[0;34m(self, size)\u001b[0m\n\u001b[1;32m    524\u001b[0m \u001b[39m\u001b[39m\u001b[39m\"\"\"Return the next size number of bytes from the stream.\"\"\"\u001b[39;00m\n\u001b[1;32m    525\u001b[0m \u001b[39massert\u001b[39;00m size \u001b[39mis\u001b[39;00m \u001b[39mnot\u001b[39;00m \u001b[39mNone\u001b[39;00m\n\u001b[0;32m--> 526\u001b[0m buf \u001b[39m=\u001b[39m \u001b[39mself\u001b[39;49m\u001b[39m.\u001b[39;49m_read(size)\n\u001b[1;32m    527\u001b[0m \u001b[39mself\u001b[39m\u001b[39m.\u001b[39mpos \u001b[39m+\u001b[39m\u001b[39m=\u001b[39m \u001b[39mlen\u001b[39m(buf)\n\u001b[1;32m    528\u001b[0m \u001b[39mreturn\u001b[39;00m buf\n",
      "File \u001b[0;32m~/miniconda3/envs/whisper/lib/python3.10/tarfile.py:544\u001b[0m, in \u001b[0;36m_Stream._read\u001b[0;34m(self, size)\u001b[0m\n\u001b[1;32m    542\u001b[0m     \u001b[39mself\u001b[39m\u001b[39m.\u001b[39mbuf \u001b[39m=\u001b[39m \u001b[39mb\u001b[39m\u001b[39m\"\u001b[39m\u001b[39m\"\u001b[39m\n\u001b[1;32m    543\u001b[0m \u001b[39melse\u001b[39;00m:\n\u001b[0;32m--> 544\u001b[0m     buf \u001b[39m=\u001b[39m \u001b[39mself\u001b[39;49m\u001b[39m.\u001b[39;49mfileobj\u001b[39m.\u001b[39;49mread(\u001b[39mself\u001b[39;49m\u001b[39m.\u001b[39;49mbufsize)\n\u001b[1;32m    545\u001b[0m     \u001b[39mif\u001b[39;00m \u001b[39mnot\u001b[39;00m buf:\n\u001b[1;32m    546\u001b[0m         \u001b[39mbreak\u001b[39;00m\n",
      "File \u001b[0;32m~/miniconda3/envs/whisper/lib/python3.10/site-packages/datasets/download/streaming_download_manager.py:333\u001b[0m, in \u001b[0;36m_add_retries_to_file_obj_read_method.<locals>.read_with_retries\u001b[0;34m(*args, **kwargs)\u001b[0m\n\u001b[1;32m    331\u001b[0m \u001b[39mfor\u001b[39;00m retry \u001b[39min\u001b[39;00m \u001b[39mrange\u001b[39m(\u001b[39m1\u001b[39m, max_retries \u001b[39m+\u001b[39m \u001b[39m1\u001b[39m):\n\u001b[1;32m    332\u001b[0m     \u001b[39mtry\u001b[39;00m:\n\u001b[0;32m--> 333\u001b[0m         out \u001b[39m=\u001b[39m read(\u001b[39m*\u001b[39;49margs, \u001b[39m*\u001b[39;49m\u001b[39m*\u001b[39;49mkwargs)\n\u001b[1;32m    334\u001b[0m         \u001b[39mbreak\u001b[39;00m\n\u001b[1;32m    335\u001b[0m     \u001b[39mexcept\u001b[39;00m (ClientError, \u001b[39mTimeoutError\u001b[39;00m) \u001b[39mas\u001b[39;00m err:\n",
      "File \u001b[0;32m~/miniconda3/envs/whisper/lib/python3.10/site-packages/fsspec/implementations/http.py:600\u001b[0m, in \u001b[0;36mHTTPFile.read\u001b[0;34m(self, length)\u001b[0m\n\u001b[1;32m    598\u001b[0m \u001b[39melse\u001b[39;00m:\n\u001b[1;32m    599\u001b[0m     length \u001b[39m=\u001b[39m \u001b[39mmin\u001b[39m(\u001b[39mself\u001b[39m\u001b[39m.\u001b[39msize \u001b[39m-\u001b[39m \u001b[39mself\u001b[39m\u001b[39m.\u001b[39mloc, length)\n\u001b[0;32m--> 600\u001b[0m \u001b[39mreturn\u001b[39;00m \u001b[39msuper\u001b[39;49m()\u001b[39m.\u001b[39;49mread(length)\n",
      "File \u001b[0;32m~/miniconda3/envs/whisper/lib/python3.10/site-packages/fsspec/spec.py:1790\u001b[0m, in \u001b[0;36mAbstractBufferedFile.read\u001b[0;34m(self, length)\u001b[0m\n\u001b[1;32m   1787\u001b[0m \u001b[39mif\u001b[39;00m length \u001b[39m==\u001b[39m \u001b[39m0\u001b[39m:\n\u001b[1;32m   1788\u001b[0m     \u001b[39m# don't even bother calling fetch\u001b[39;00m\n\u001b[1;32m   1789\u001b[0m     \u001b[39mreturn\u001b[39;00m \u001b[39mb\u001b[39m\u001b[39m\"\u001b[39m\u001b[39m\"\u001b[39m\n\u001b[0;32m-> 1790\u001b[0m out \u001b[39m=\u001b[39m \u001b[39mself\u001b[39;49m\u001b[39m.\u001b[39;49mcache\u001b[39m.\u001b[39;49m_fetch(\u001b[39mself\u001b[39;49m\u001b[39m.\u001b[39;49mloc, \u001b[39mself\u001b[39;49m\u001b[39m.\u001b[39;49mloc \u001b[39m+\u001b[39;49m length)\n\u001b[1;32m   1791\u001b[0m \u001b[39mself\u001b[39m\u001b[39m.\u001b[39mloc \u001b[39m+\u001b[39m\u001b[39m=\u001b[39m \u001b[39mlen\u001b[39m(out)\n\u001b[1;32m   1792\u001b[0m \u001b[39mreturn\u001b[39;00m out\n",
      "File \u001b[0;32m~/miniconda3/envs/whisper/lib/python3.10/site-packages/fsspec/caching.py:396\u001b[0m, in \u001b[0;36mBytesCache._fetch\u001b[0;34m(self, start, end)\u001b[0m\n\u001b[1;32m    394\u001b[0m         \u001b[39mself\u001b[39m\u001b[39m.\u001b[39mstart \u001b[39m=\u001b[39m start\n\u001b[1;32m    395\u001b[0m     \u001b[39melse\u001b[39;00m:\n\u001b[0;32m--> 396\u001b[0m         new \u001b[39m=\u001b[39m \u001b[39mself\u001b[39;49m\u001b[39m.\u001b[39;49mfetcher(\u001b[39mself\u001b[39;49m\u001b[39m.\u001b[39;49mend, bend)\n\u001b[1;32m    397\u001b[0m         \u001b[39mself\u001b[39m\u001b[39m.\u001b[39mcache \u001b[39m=\u001b[39m \u001b[39mself\u001b[39m\u001b[39m.\u001b[39mcache \u001b[39m+\u001b[39m new\n\u001b[1;32m    399\u001b[0m \u001b[39mself\u001b[39m\u001b[39m.\u001b[39mend \u001b[39m=\u001b[39m \u001b[39mself\u001b[39m\u001b[39m.\u001b[39mstart \u001b[39m+\u001b[39m \u001b[39mlen\u001b[39m(\u001b[39mself\u001b[39m\u001b[39m.\u001b[39mcache)\n",
      "File \u001b[0;32m~/miniconda3/envs/whisper/lib/python3.10/site-packages/fsspec/asyn.py:121\u001b[0m, in \u001b[0;36msync_wrapper.<locals>.wrapper\u001b[0;34m(*args, **kwargs)\u001b[0m\n\u001b[1;32m    118\u001b[0m \u001b[39m@functools\u001b[39m\u001b[39m.\u001b[39mwraps(func)\n\u001b[1;32m    119\u001b[0m \u001b[39mdef\u001b[39;00m \u001b[39mwrapper\u001b[39m(\u001b[39m*\u001b[39margs, \u001b[39m*\u001b[39m\u001b[39m*\u001b[39mkwargs):\n\u001b[1;32m    120\u001b[0m     \u001b[39mself\u001b[39m \u001b[39m=\u001b[39m obj \u001b[39mor\u001b[39;00m args[\u001b[39m0\u001b[39m]\n\u001b[0;32m--> 121\u001b[0m     \u001b[39mreturn\u001b[39;00m sync(\u001b[39mself\u001b[39;49m\u001b[39m.\u001b[39;49mloop, func, \u001b[39m*\u001b[39;49margs, \u001b[39m*\u001b[39;49m\u001b[39m*\u001b[39;49mkwargs)\n",
      "File \u001b[0;32m~/miniconda3/envs/whisper/lib/python3.10/site-packages/fsspec/asyn.py:94\u001b[0m, in \u001b[0;36msync\u001b[0;34m(loop, func, timeout, *args, **kwargs)\u001b[0m\n\u001b[1;32m     91\u001b[0m asyncio\u001b[39m.\u001b[39mrun_coroutine_threadsafe(_runner(event, coro, result, timeout), loop)\n\u001b[1;32m     92\u001b[0m \u001b[39mwhile\u001b[39;00m \u001b[39mTrue\u001b[39;00m:\n\u001b[1;32m     93\u001b[0m     \u001b[39m# this loops allows thread to get interrupted\u001b[39;00m\n\u001b[0;32m---> 94\u001b[0m     \u001b[39mif\u001b[39;00m event\u001b[39m.\u001b[39;49mwait(\u001b[39m1\u001b[39;49m):\n\u001b[1;32m     95\u001b[0m         \u001b[39mbreak\u001b[39;00m\n\u001b[1;32m     96\u001b[0m     \u001b[39mif\u001b[39;00m timeout \u001b[39mis\u001b[39;00m \u001b[39mnot\u001b[39;00m \u001b[39mNone\u001b[39;00m:\n",
      "File \u001b[0;32m~/miniconda3/envs/whisper/lib/python3.10/threading.py:607\u001b[0m, in \u001b[0;36mEvent.wait\u001b[0;34m(self, timeout)\u001b[0m\n\u001b[1;32m    605\u001b[0m signaled \u001b[39m=\u001b[39m \u001b[39mself\u001b[39m\u001b[39m.\u001b[39m_flag\n\u001b[1;32m    606\u001b[0m \u001b[39mif\u001b[39;00m \u001b[39mnot\u001b[39;00m signaled:\n\u001b[0;32m--> 607\u001b[0m     signaled \u001b[39m=\u001b[39m \u001b[39mself\u001b[39;49m\u001b[39m.\u001b[39;49m_cond\u001b[39m.\u001b[39;49mwait(timeout)\n\u001b[1;32m    608\u001b[0m \u001b[39mreturn\u001b[39;00m signaled\n",
      "File \u001b[0;32m~/miniconda3/envs/whisper/lib/python3.10/threading.py:324\u001b[0m, in \u001b[0;36mCondition.wait\u001b[0;34m(self, timeout)\u001b[0m\n\u001b[1;32m    322\u001b[0m \u001b[39melse\u001b[39;00m:\n\u001b[1;32m    323\u001b[0m     \u001b[39mif\u001b[39;00m timeout \u001b[39m>\u001b[39m \u001b[39m0\u001b[39m:\n\u001b[0;32m--> 324\u001b[0m         gotit \u001b[39m=\u001b[39m waiter\u001b[39m.\u001b[39;49macquire(\u001b[39mTrue\u001b[39;49;00m, timeout)\n\u001b[1;32m    325\u001b[0m     \u001b[39melse\u001b[39;00m:\n\u001b[1;32m    326\u001b[0m         gotit \u001b[39m=\u001b[39m waiter\u001b[39m.\u001b[39macquire(\u001b[39mFalse\u001b[39;00m)\n",
      "\u001b[0;31mKeyboardInterrupt\u001b[0m: "
     ]
    }
   ],
   "source": [
    "output_path = Path(\"./output_audio_new\")\n",
    "pathlib.Path.mkdir(output_path, exist_ok=True)\n",
    "mask_ratios = [0.8, 0.6, 0.4, 0.2]\n",
    "mode_value = \"retain\"\n",
    "what_to_mask_list = [\"top\", \"bottom\", \"random\"]\n",
    "num_samples = 3\n",
    "skip_to_index = 510\n",
    "inputs = []\n",
    "for sample in tqdm(ds.skip(skip_to_index).take(num_samples)):\n",
    "    inputs.append(sample)\n",
    "get_audio(whisper_evaluator, inputs, mask_ratios, mode_value, what_to_mask_list)"
   ]
  },
  {
   "cell_type": "code",
   "execution_count": null,
   "metadata": {},
   "outputs": [],
   "source": []
  }
 ],
 "metadata": {
  "kernelspec": {
   "display_name": "whisper",
   "language": "python",
   "name": "python3"
  },
  "language_info": {
   "codemirror_mode": {
    "name": "ipython",
    "version": 3
   },
   "file_extension": ".py",
   "mimetype": "text/x-python",
   "name": "python",
   "nbconvert_exporter": "python",
   "pygments_lexer": "ipython3",
   "version": "3.10.13"
  }
 },
 "nbformat": 4,
 "nbformat_minor": 2
}
